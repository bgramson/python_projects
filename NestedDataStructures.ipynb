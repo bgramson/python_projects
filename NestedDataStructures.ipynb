{
 "cells": [
  {
   "cell_type": "code",
   "execution_count": null,
   "metadata": {},
   "outputs": [],
   "source": [
    "#Assignment 1:\n",
    "\n",
    "#Add item 1000 after 8000 in the following\n",
    "\n",
    "input_list = [10, 20, [300, 400, [5000, 8000], 500], 30, 40]\n",
    "#Expected output:\n",
    "#[10, 20, [300, 400, [5000, 6000, 1000], 500], 30, 40]"
   ]
  },
  {
   "cell_type": "code",
   "execution_count": 27,
   "metadata": {},
   "outputs": [
    {
     "name": "stdout",
     "output_type": "stream",
     "text": [
      "[10, 20, [300, 400, [5000, 6000, 1000], 500], 30, 40]\n"
     ]
    }
   ],
   "source": [
    "#crude method\n",
    "input_list[2][2]=[5000,6000,1000]\n",
    "print(input_list)"
   ]
  },
  {
   "cell_type": "code",
   "execution_count": 26,
   "metadata": {},
   "outputs": [
    {
     "name": "stdout",
     "output_type": "stream",
     "text": [
      "[10, 20, [300, 400, [5000, 8000, 6000], 500], 30, 40]\n"
     ]
    }
   ],
   "source": [
    "input_list[2][2].append(6000)\n",
    "print(input_list)"
   ]
  },
  {
   "cell_type": "code",
   "execution_count": 16,
   "metadata": {},
   "outputs": [],
   "source": [
    "#Access the value of key ‘math’\n",
    "#Expected output: 80\n",
    "\n",
    "input_dict = { \n",
    "   \"class\": {\n",
    "      \"student\": {\n",
    "         \"name\":\"Mike\",\n",
    "         \"marks\": {\n",
    "            \"physics\":70,\n",
    "            \"math\":80\n",
    "         }\n",
    "      }\n",
    "   }\n",
    "}\n",
    "\n"
   ]
  },
  {
   "cell_type": "code",
   "execution_count": 19,
   "metadata": {},
   "outputs": [
    {
     "name": "stdout",
     "output_type": "stream",
     "text": [
      "80\n"
     ]
    }
   ],
   "source": [
    "print(input_dict['class']['student']['marks']['math'])"
   ]
  },
  {
   "cell_type": "code",
   "execution_count": 28,
   "metadata": {},
   "outputs": [],
   "source": [
    "input_dict = {\n",
    "  'Physics': 82,\n",
    "  'Math': 65,\n",
    "  'history': 75\n",
    "}"
   ]
  },
  {
   "cell_type": "code",
   "execution_count": 29,
   "metadata": {},
   "outputs": [
    {
     "name": "stdout",
     "output_type": "stream",
     "text": [
      "Math\n"
     ]
    }
   ],
   "source": [
    "print(min(input_dict, key=input_dict.get))"
   ]
  },
  {
   "cell_type": "code",
   "execution_count": null,
   "metadata": {},
   "outputs": [],
   "source": []
  }
 ],
 "metadata": {
  "kernelspec": {
   "display_name": "Python 3",
   "language": "python",
   "name": "python3"
  },
  "language_info": {
   "codemirror_mode": {
    "name": "ipython",
    "version": 3
   },
   "file_extension": ".py",
   "mimetype": "text/x-python",
   "name": "python",
   "nbconvert_exporter": "python",
   "pygments_lexer": "ipython3",
   "version": "3.7.4"
  }
 },
 "nbformat": 4,
 "nbformat_minor": 2
}
